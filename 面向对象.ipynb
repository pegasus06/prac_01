{
 "cells": [
  {
   "cell_type": "code",
   "execution_count": 8,
   "id": "049af538",
   "metadata": {},
   "outputs": [
    {
     "name": "stdout",
     "output_type": "stream",
     "text": [
      "0.05192649999935384\n"
     ]
    }
   ],
   "source": [
    "from timeit import timeit\n",
    "print(timeit(\"list()\"))"
   ]
  },
  {
   "cell_type": "code",
   "execution_count": 9,
   "id": "069e684a",
   "metadata": {},
   "outputs": [
    {
     "name": "stdout",
     "output_type": "stream",
     "text": [
      "0.02016600000024482\n"
     ]
    }
   ],
   "source": [
    "from timeit import timeit\n",
    "print(timeit(\"[]\"))"
   ]
  },
  {
   "cell_type": "code",
   "execution_count": 10,
   "id": "e7e5ad29",
   "metadata": {},
   "outputs": [
    {
     "name": "stdout",
     "output_type": "stream",
     "text": [
      "zhangsan\n"
     ]
    }
   ],
   "source": [
    "d={'name':\"zhangsan\",\"age\":20}\n",
    "print(d.get(\"name\"))"
   ]
  },
  {
   "cell_type": "code",
   "execution_count": 13,
   "id": "43b6c340",
   "metadata": {},
   "outputs": [
    {
     "name": "stdout",
     "output_type": "stream",
     "text": [
      "zhangsan\n"
     ]
    }
   ],
   "source": [
    "d={'name':\"zhangsan\",\"age\":20}\n",
    "print(d[\"name\"])"
   ]
  },
  {
   "cell_type": "code",
   "execution_count": 14,
   "id": "c655c729",
   "metadata": {},
   "outputs": [
    {
     "ename": "KeyError",
     "evalue": "'sss'",
     "output_type": "error",
     "traceback": [
      "\u001b[1;31m---------------------------------------------------------------------------\u001b[0m",
      "\u001b[1;31mKeyError\u001b[0m                                  Traceback (most recent call last)",
      "Input \u001b[1;32mIn [14]\u001b[0m, in \u001b[0;36m<cell line: 2>\u001b[1;34m()\u001b[0m\n\u001b[0;32m      1\u001b[0m d\u001b[38;5;241m=\u001b[39m{\u001b[38;5;124m'\u001b[39m\u001b[38;5;124mname\u001b[39m\u001b[38;5;124m'\u001b[39m:\u001b[38;5;124m\"\u001b[39m\u001b[38;5;124mzhangsan\u001b[39m\u001b[38;5;124m\"\u001b[39m,\u001b[38;5;124m\"\u001b[39m\u001b[38;5;124mage\u001b[39m\u001b[38;5;124m\"\u001b[39m:\u001b[38;5;241m20\u001b[39m}\n\u001b[1;32m----> 2\u001b[0m \u001b[38;5;28mprint\u001b[39m(\u001b[43md\u001b[49m\u001b[43m[\u001b[49m\u001b[38;5;124;43m\"\u001b[39;49m\u001b[38;5;124;43msss\u001b[39;49m\u001b[38;5;124;43m\"\u001b[39;49m\u001b[43m]\u001b[49m)\n",
      "\u001b[1;31mKeyError\u001b[0m: 'sss'"
     ]
    }
   ],
   "source": [
    "d={'name':\"zhangsan\",\"age\":20}\n",
    "print(d[\"sss\"])"
   ]
  },
  {
   "cell_type": "code",
   "execution_count": 16,
   "id": "eb28ffe6",
   "metadata": {},
   "outputs": [
    {
     "name": "stdout",
     "output_type": "stream",
     "text": [
      "5\n"
     ]
    }
   ],
   "source": [
    "d={'name':\"zhangsan\",\"age\":20}\n",
    "print(d.get(\"sss\",5))"
   ]
  },
  {
   "cell_type": "markdown",
   "id": "e5071591",
   "metadata": {},
   "source": [
    "x[0]对字典的键进行排序"
   ]
  },
  {
   "cell_type": "code",
   "execution_count": 18,
   "id": "2c38b271",
   "metadata": {},
   "outputs": [
    {
     "name": "stdout",
     "output_type": "stream",
     "text": [
      "[('a', 2), ('b', 1), ('c', 3)]\n"
     ]
    }
   ],
   "source": [
    "d={\"b\":1,\"a\":2,\"c\":3}\n",
    "so=sorted(d.items(),key=lambda x:x[0])\n",
    "print(so)"
   ]
  },
  {
   "cell_type": "markdown",
   "id": "11dec5ab",
   "metadata": {},
   "source": [
    "x[1]对字典的值进行排序"
   ]
  },
  {
   "cell_type": "code",
   "execution_count": 19,
   "id": "c4d39b30",
   "metadata": {},
   "outputs": [
    {
     "name": "stdout",
     "output_type": "stream",
     "text": [
      "[('b', 1), ('a', 2), ('c', 3)]\n"
     ]
    }
   ],
   "source": [
    "d={\"b\":1,\"a\":2,\"c\":3}\n",
    "so=sorted(d.items(),key=lambda x:x[1])\n",
    "print(so)"
   ]
  },
  {
   "cell_type": "code",
   "execution_count": 22,
   "id": "ca0be819",
   "metadata": {},
   "outputs": [
    {
     "name": "stdout",
     "output_type": "stream",
     "text": [
      "[('c', 3), ('a', 2), ('b', 1)]\n"
     ]
    }
   ],
   "source": [
    "d={\"b\":1,\"a\":2,\"c\":3}\n",
    "so=sorted(d.items(),key=lambda x:x[1],reverse=True)\n",
    "print(so)"
   ]
  },
  {
   "cell_type": "code",
   "execution_count": 27,
   "id": "f07e4bc7",
   "metadata": {},
   "outputs": [
    {
     "name": "stdout",
     "output_type": "stream",
     "text": [
      "0—1—2—3—4—5—6—7—8—9\n"
     ]
    }
   ],
   "source": [
    "s=\"—\".join(map(str,range(0,10)))\n",
    "print(s)"
   ]
  },
  {
   "cell_type": "code",
   "execution_count": 28,
   "id": "b02dc98b",
   "metadata": {},
   "outputs": [
    {
     "name": "stdout",
     "output_type": "stream",
     "text": [
      "<map object at 0x000001F6402DF970>\n"
     ]
    }
   ],
   "source": [
    "s=map(str,range(0,10))\n",
    "print(s)"
   ]
  },
  {
   "cell_type": "code",
   "execution_count": 38,
   "id": "fc11b9ce",
   "metadata": {},
   "outputs": [
    {
     "name": "stdout",
     "output_type": "stream",
     "text": [
      "0.13366659999883268\n"
     ]
    }
   ],
   "source": [
    "from timeit import timeit\n",
    "print(timeit(\"range(100)\"))"
   ]
  },
  {
   "cell_type": "code",
   "execution_count": 39,
   "id": "664e143e",
   "metadata": {},
   "outputs": [
    {
     "name": "stdout",
     "output_type": "stream",
     "text": [
      "0.16018070000063744\n"
     ]
    }
   ],
   "source": [
    "from timeit import timeit\n",
    "print(timeit(\"range(10000)\"))"
   ]
  },
  {
   "cell_type": "code",
   "execution_count": 67,
   "id": "6c869ada",
   "metadata": {},
   "outputs": [
    {
     "name": "stdout",
     "output_type": "stream",
     "text": [
      "1.669247699999687\n"
     ]
    }
   ],
   "source": [
    "from timeit import timeit\n",
    "s1=\"_\".join(map(str,range(0,1000)))\n",
    "print(timeit(\"s1='_'.join(map(str,range(0,10)))\"))"
   ]
  },
  {
   "cell_type": "code",
   "execution_count": 78,
   "id": "db09551f",
   "metadata": {},
   "outputs": [
    {
     "name": "stdout",
     "output_type": "stream",
     "text": [
      "0.01848979999886069\n"
     ]
    }
   ],
   "source": [
    "from timeit import timeit\n",
    "s=[]\n",
    "for i in range(0,10):\n",
    "    s.append(str(i))\n",
    "print(timeit(\"s='s.append(str(i)) for i in range(0,10))'\"))"
   ]
  },
  {
   "cell_type": "code",
   "execution_count": 85,
   "id": "221b2ddb",
   "metadata": {},
   "outputs": [
    {
     "name": "stdout",
     "output_type": "stream",
     "text": [
      "sda\n",
      "<class 'str'>\n"
     ]
    }
   ],
   "source": [
    "with open (r\"E:\\360MoveData\\Users\\10106\\Desktop\\aaa.txt\",\"r\")as f:\n",
    "    a=f.read(3)\n",
    "    print(a)\n",
    "    print(type(a))"
   ]
  },
  {
   "cell_type": "code",
   "execution_count": 93,
   "id": "55272a9d",
   "metadata": {},
   "outputs": [
    {
     "name": "stdout",
     "output_type": "stream",
     "text": [
      "{\"admin\": \"zhangfei\", \"password\": \"123456\"}\n",
      "<class 'str'>\n",
      "{'admin': 'zhangfei', 'password': '123456'}\n",
      "<class 'dict'>\n"
     ]
    }
   ],
   "source": [
    "import json\n",
    "params={\"admin\":\"zhangfei\",\n",
    "       \"password\":\"123456\"}\n",
    "params_str=json.dumps(params)#dump 写入 长于with open使用\n",
    "#dumps（）将字典转换为字符串\n",
    "print(params_str)\n",
    "print(type(params_str))\n",
    "aaa=json.loads(params_str) #load 读取 常与 with open使用\n",
    "#loads（）将字符串转换为字典\n",
    "print(aaa)\n",
    "print(type(aaa))"
   ]
  },
  {
   "cell_type": "code",
   "execution_count": 106,
   "id": "2e8797e0",
   "metadata": {},
   "outputs": [],
   "source": [
    "import json\n",
    "params={\"admin\":\"zhangfei\",\n",
    "       \"password\":\"123456\"}\n",
    "with open (r\"E:\\360MoveData\\Users\\10106\\Documents\\GitHub\\dcslearning\\dcslearning\\aaa.txt\",\"w\")as f:\n",
    "    json.dump(params,f)\n"
   ]
  },
  {
   "cell_type": "code",
   "execution_count": 108,
   "id": "b08b3935",
   "metadata": {},
   "outputs": [
    {
     "name": "stdout",
     "output_type": "stream",
     "text": [
      "{'admin': 'zhangfei', 'password': '123456'}\n"
     ]
    }
   ],
   "source": [
    "import json\n",
    "with open (r\"E:\\360MoveData\\Users\\10106\\Documents\\GitHub\\dcslearning\\dcslearning\\aaa.txt\",\"r\")as f:\n",
    "    s=json.load(f)\n",
    "    print(s)"
   ]
  },
  {
   "cell_type": "code",
   "execution_count": 3,
   "id": "9ed47969",
   "metadata": {},
   "outputs": [
    {
     "name": "stdout",
     "output_type": "stream",
     "text": [
      "8\n"
     ]
    }
   ],
   "source": [
    "def cal(ele):\n",
    "    def cac(para):\n",
    "        return ele**para\n",
    "    return cac\n",
    "sqir=cal(2)\n",
    "print(sqir(3))"
   ]
  },
  {
   "cell_type": "code",
   "execution_count": 6,
   "id": "fb2e1eee",
   "metadata": {},
   "outputs": [
    {
     "name": "stdout",
     "output_type": "stream",
     "text": [
      "[('ben', 30), ('mike', 10), ('lucy', 2)]\n"
     ]
    }
   ],
   "source": [
    "d={\"mike\":10,\"lucy\":2,\"ben\":30}\n",
    "a=sorted(d.items(),key=lambda x:x[1],reverse=True)\n",
    "print(a)"
   ]
  },
  {
   "cell_type": "code",
   "execution_count": 26,
   "id": "86b0f2cd",
   "metadata": {
    "scrolled": true
   },
   "outputs": [
    {
     "name": "stdout",
     "output_type": "stream",
     "text": [
      "zhangsan\n",
      "l\n"
     ]
    },
    {
     "ename": "AttributeError",
     "evalue": "'Document' object has no attribute '__context'",
     "output_type": "error",
     "traceback": [
      "\u001b[1;31m---------------------------------------------------------------------------\u001b[0m",
      "\u001b[1;31mAttributeError\u001b[0m                            Traceback (most recent call last)",
      "Input \u001b[1;32mIn [26]\u001b[0m, in \u001b[0;36m<cell line: 13>\u001b[1;34m()\u001b[0m\n\u001b[0;32m     11\u001b[0m potter\u001b[38;5;241m.\u001b[39mshhi()\n\u001b[0;32m     12\u001b[0m \u001b[38;5;28mprint\u001b[39m(potter\u001b[38;5;241m.\u001b[39mauthor)\n\u001b[1;32m---> 13\u001b[0m \u001b[38;5;28mprint\u001b[39m(\u001b[43mpotter\u001b[49m\u001b[38;5;241;43m.\u001b[39;49m\u001b[43m__context\u001b[49m)\n",
      "\u001b[1;31mAttributeError\u001b[0m: 'Document' object has no attribute '__context'"
     ]
    }
   ],
   "source": [
    "class Document():\n",
    "    def __init__(self,title,author,context):\n",
    "        self.title=title\n",
    "        self.author=author\n",
    "        self.__context=context\n",
    "    def shhi(self):\n",
    "        self.__context=self.__context[:2]\n",
    "        self.author=self.author[:1]#可以在内部修改类的属性和私有属性\n",
    "potter=Document(\"zhangsan\",\"lisi\",\"wangwu\")\n",
    "print(potter.title)\n",
    "potter.shhi()\n",
    "print(potter.author)\n",
    "print(potter.__context)"
   ]
  },
  {
   "cell_type": "code",
   "execution_count": 38,
   "id": "5e16b4aa",
   "metadata": {
    "scrolled": true
   },
   "outputs": [
    {
     "name": "stdout",
     "output_type": "stream",
     "text": [
      "you are 1\n",
      "nothing\n",
      "you are 2\n",
      "what happened\n"
     ]
    },
    {
     "ename": "AttributeError",
     "evalue": "'Document' object has no attribute '_Document__context'",
     "output_type": "error",
     "traceback": [
      "\u001b[1;31m---------------------------------------------------------------------------\u001b[0m",
      "\u001b[1;31mAttributeError\u001b[0m                            Traceback (most recent call last)",
      "Input \u001b[1;32mIn [38]\u001b[0m, in \u001b[0;36m<cell line: 21>\u001b[1;34m()\u001b[0m\n\u001b[0;32m     19\u001b[0m book\u001b[38;5;241m=\u001b[39mDocument\u001b[38;5;241m.\u001b[39mcreate_empty(\u001b[38;5;124m\"\u001b[39m\u001b[38;5;124mwhat happened\u001b[39m\u001b[38;5;124m\"\u001b[39m,\u001b[38;5;124m\"\u001b[39m\u001b[38;5;124mpeter\u001b[39m\u001b[38;5;124m\"\u001b[39m)\n\u001b[0;32m     20\u001b[0m \u001b[38;5;28mprint\u001b[39m(book\u001b[38;5;241m.\u001b[39mtitle)\n\u001b[1;32m---> 21\u001b[0m \u001b[38;5;28mprint\u001b[39m(\u001b[43mbook\u001b[49m\u001b[38;5;241;43m.\u001b[39;49m\u001b[43mget_context\u001b[49m\u001b[43m(\u001b[49m\u001b[43m)\u001b[49m)\n\u001b[0;32m     22\u001b[0m \u001b[38;5;28mprint\u001b[39m(book\u001b[38;5;241m.\u001b[39mget_welcome(\u001b[38;5;124m\"\u001b[39m\u001b[38;5;124mnothing\u001b[39m\u001b[38;5;124m\"\u001b[39m))\n",
      "Input \u001b[1;32mIn [38]\u001b[0m, in \u001b[0;36mDocument.get_context\u001b[1;34m(self)\u001b[0m\n\u001b[0;32m     14\u001b[0m \u001b[38;5;28;01mdef\u001b[39;00m \u001b[38;5;21mget_context\u001b[39m(\u001b[38;5;28mself\u001b[39m):\n\u001b[1;32m---> 15\u001b[0m     \u001b[38;5;28;01mreturn\u001b[39;00m \u001b[38;5;28mlen\u001b[39m(\u001b[38;5;28;43mself\u001b[39;49m\u001b[38;5;241;43m.\u001b[39;49m\u001b[43m__context\u001b[49m)\n",
      "\u001b[1;31mAttributeError\u001b[0m: 'Document' object has no attribute '_Document__context'"
     ]
    }
   ],
   "source": [
    "class Document():\n",
    "    WELCOME=\"welcome!The context for this book\"\n",
    "    @classmethod #类函数\n",
    "    def create_empty(cls,title,author):\n",
    "        print(\"you are 1\")\n",
    "        return cls(title=title,author=author,context=\"nothing\")#规定了类的属性\n",
    "        \n",
    "    def __init__(self,title,author,context):\n",
    "        self.title=title\n",
    "        self.author=author\n",
    "        self.context=context\n",
    "        print(self.context)\n",
    "        print(\"you are 2\")\n",
    "    def get_context(self):\n",
    "        return len(self.__context)\n",
    "    @staticmethod#静态函数\n",
    "    def get_welcome(a):\n",
    "        return Document.WELCOME.format(a)\n",
    "book=Document.create_empty(\"what happened\",\"peter\")\n",
    "print(book.title)\n",
    "print(book.get_context())\n",
    "print(book.get_welcome(\"nothing\"))"
   ]
  },
  {
   "cell_type": "markdown",
   "id": "e2844486",
   "metadata": {},
   "source": [
    "## 继承\n"
   ]
  },
  {
   "cell_type": "code",
   "execution_count": 49,
   "id": "951ddfef",
   "metadata": {
    "scrolled": true
   },
   "outputs": [
    {
     "name": "stdout",
     "output_type": "stream",
     "text": [
      "AAA class init called\n",
      "parent class init called\n",
      "video class is called\n",
      "parent class init called\n",
      "26\n"
     ]
    }
   ],
   "source": [
    "class Entity():\n",
    "    def __init__(self,object_type):\n",
    "        print(\"parent class init called\")\n",
    "        self.object_type=object_type\n",
    "    def get_context_length(self):\n",
    "        raise Exception(\"get_context_length not implemented\")\n",
    "    def print_title(self):\n",
    "        print(self.title)\n",
    "class AAA(Entity):\n",
    "    def __init__(self,title,author,context):\n",
    "        print(\"AAA class init called\")\n",
    "        Entity.__init__(self,\"aaa\")\n",
    "        self.title=title\n",
    "        self.author=author\n",
    "        self.__context=context\n",
    "    def get_context_length(self):\n",
    "        return len(self.__context)\n",
    "class Video(Entity):\n",
    "    def __init__(self,title,author,video_length):\n",
    "        print(\"video class is called\")\n",
    "        Entity.__init__(self,\"video\")\n",
    "        self.title=title\n",
    "        self.author=author \n",
    "        self.__video_length=video_length\n",
    "    def get_context_length(self):\n",
    "        return self.__video_length\n",
    "book=AAA(\"zhangsan\",\"周rui\",\"wowangleshuoshalsadasdsae \")\n",
    "movie=Video(\"lisi\",\"王八蛋\",5)\n",
    "print(book.get_context_length())"
   ]
  },
  {
   "cell_type": "markdown",
   "id": "afa034a9",
   "metadata": {},
   "source": [
    "## 静态方法\n"
   ]
  },
  {
   "cell_type": "markdown",
   "id": "781d3e85",
   "metadata": {},
   "source": []
  },
  {
   "cell_type": "markdown",
   "id": "2e5132eb",
   "metadata": {},
   "source": []
  },
  {
   "cell_type": "markdown",
   "id": "6ec5e4c8",
   "metadata": {},
   "source": [
    "## 抽象类与抽象函数"
   ]
  },
  {
   "cell_type": "markdown",
   "id": "26d677f4",
   "metadata": {},
   "source": [
    "在抽象类中，方法必须依托父类的方法\n",
    "不能直接创建父类对象\n",
    "metaclass=ABCMeta\n",
    "多态继承使用C3算法\n",
    "mro(E)=[E]+merge(mro[A],mro[B],[A,B])\n",
    "mro(E)=[E]+merge([A,O],[B,O],[A,B])\n",
    "mro(E)=[E]+merge([A,O],[B,O],[A,B])\n",
    "mro(E)=[E,A]+merge([O],[B,O],[B])\n",
    "mro(E)=[E,A,B]+merge([O],[O])\n",
    "mro(E)=[E,A,B,O]"
   ]
  },
  {
   "cell_type": "code",
   "execution_count": 55,
   "id": "3552f920",
   "metadata": {},
   "outputs": [
    {
     "name": "stdout",
     "output_type": "stream",
     "text": [
      "zhangsan\n"
     ]
    }
   ],
   "source": [
    "from abc import ABCMeta,abstractclassmethod\n",
    "class Base(metaclass=ABCMeta):\n",
    "    @abstractclassmethod\n",
    "    def mam(self):\n",
    "        pass\n",
    "    @abstractclassmethod\n",
    "    def bab(self,title):\n",
    "        pass\n",
    "    @abstractclassmethod\n",
    "    def nainai(self):\n",
    "        pass\n",
    "class Two(Base):\n",
    "    def mam(self):\n",
    "        return self.title\n",
    "    def bab(self,title):\n",
    "        self.title=title\n",
    "    def nainai(self):\n",
    "        pass\n",
    "two=Two()\n",
    "two.bab(\"zhangsan\")\n",
    "print(two.mam())\n"
   ]
  },
  {
   "cell_type": "code",
   "execution_count": null,
   "id": "24015f38",
   "metadata": {},
   "outputs": [],
   "source": [
    "class SearchEngineBase(object):\n",
    "    def __init__(self):\n",
    "        pass\n",
    "\n",
    "    def add_corpus(self, file_path):\n",
    "        with open(file_path, 'r') as fin:\n",
    "            text = fin.read()\n",
    "        self.process_corpus(file_path, text)\n",
    "\n",
    "    def process_corpus(self, id, text):\n",
    "        raise Exception('process_corpus not implemented.')\n",
    "\n",
    "    def search(self, query):\n",
    "        raise Exception('search not implemented.')\n",
    "\n",
    "\n",
    "def main(search_engine):\n",
    "    for file_path in [\"E://1.txt\",\"E://2.txt\",\"E://3.txt\",\"E://4.txt\",\"E://5.txt\"]:\n",
    "        search_engine.add_corpus(file_path)\n",
    "\n",
    "    while True:\n",
    "        query = input()\n",
    "        results = search_engine.search(query)\n",
    "        print('found {} result(s):'.format(len(results)))\n",
    "        for result in results:\n",
    "            print(result)\n",
    "\n",
    "\n",
    "class SimpleEngine(SearchEngineBase):\n",
    "    def __init__(self):\n",
    "        super(SimpleEngine, self).__init__()\n",
    "        self.__id_to_texts = {}\n",
    "\n",
    "    def process_corpus(self, id, text):\n",
    "        self.__id_to_texts[id] = text\n",
    "\n",
    "    def search(self, query):\n",
    "        results = []\n",
    "        for id, text in self.__id_to_texts.items():\n",
    "            if query in text:\n",
    "                results.append(id)\n",
    "        return results\n",
    "\n",
    "\n",
    "search_engine = SimpleEngine()\n",
    "main(search_engine)"
   ]
  },
  {
   "cell_type": "code",
   "execution_count": null,
   "id": "a5deca7a",
   "metadata": {},
   "outputs": [],
   "source": []
  }
 ],
 "metadata": {
  "kernelspec": {
   "display_name": "Python 3 (ipykernel)",
   "language": "python",
   "name": "python3"
  },
  "language_info": {
   "codemirror_mode": {
    "name": "ipython",
    "version": 3
   },
   "file_extension": ".py",
   "mimetype": "text/x-python",
   "name": "python",
   "nbconvert_exporter": "python",
   "pygments_lexer": "ipython3",
   "version": "3.10.4"
  },
  "toc": {
   "base_numbering": 1,
   "nav_menu": {},
   "number_sections": true,
   "sideBar": true,
   "skip_h1_title": false,
   "title_cell": "Table of Contents",
   "title_sidebar": "Contents",
   "toc_cell": false,
   "toc_position": {},
   "toc_section_display": true,
   "toc_window_display": false
  }
 },
 "nbformat": 4,
 "nbformat_minor": 5
}
