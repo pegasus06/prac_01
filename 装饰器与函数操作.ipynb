{
 "cells": [
  {
   "cell_type": "markdown",
   "id": "e77a837e",
   "metadata": {},
   "source": [
    "## 函数\n",
    "**函数可以赋予变量：**"
   ]
  },
  {
   "cell_type": "code",
   "execution_count": 2,
   "id": "ae74d007",
   "metadata": {},
   "outputs": [
    {
     "name": "stdout",
     "output_type": "stream",
     "text": [
      "the message is hello,world!\n"
     ]
    }
   ],
   "source": [
    "def func(message):\n",
    "    print(f\"the message is {message}\")\n",
    "send_message=func\n",
    "send_message(\"hello,world!\")"
   ]
  },
  {
   "cell_type": "markdown",
   "id": "3e24701b",
   "metadata": {},
   "source": [
    "**函数可以当作参数，传入另一个函数中**"
   ]
  },
  {
   "cell_type": "code",
   "execution_count": 3,
   "id": "f4bba211",
   "metadata": {},
   "outputs": [
    {
     "name": "stdout",
     "output_type": "stream",
     "text": [
      "got a message: hello,world\n"
     ]
    }
   ],
   "source": [
    "def get_message(message):\n",
    "    return \"got a message: \"+message\n",
    "def rot_call(func,message):\n",
    "    print(func(message))\n",
    "rot_call(get_message,\"hello,world\")"
   ]
  },
  {
   "cell_type": "markdown",
   "id": "5ca776a1",
   "metadata": {},
   "source": [
    "**函数中定义函数，实现函数嵌套**"
   ]
  },
  {
   "cell_type": "code",
   "execution_count": 4,
   "id": "5eed17db",
   "metadata": {},
   "outputs": [
    {
     "name": "stdout",
     "output_type": "stream",
     "text": [
      "got a message:hello,world\n"
     ]
    }
   ],
   "source": [
    "def func(message):\n",
    "    def get_message(message):\n",
    "        print(\"got a message:{}\".format(message))\n",
    "    return get_message(message)\n",
    "func(\"hello,world\")"
   ]
  },
  {
   "cell_type": "markdown",
   "id": "ac9d3329",
   "metadata": {},
   "source": [
    "**函数实现闭包**"
   ]
  },
  {
   "cell_type": "code",
   "execution_count": 7,
   "id": "1f17ee46",
   "metadata": {},
   "outputs": [
    {
     "name": "stdout",
     "output_type": "stream",
     "text": [
      "got a message:hello,world\n"
     ]
    }
   ],
   "source": [
    "def func():\n",
    "    def get_message(message):\n",
    "        print(f\"got a message:{message}\")\n",
    "    return get_message\n",
    "send_message=func()\n",
    "send_message(\"hello,world\")"
   ]
  },
  {
   "cell_type": "code",
   "execution_count": 9,
   "id": "ad2f323e",
   "metadata": {},
   "outputs": [
    {
     "name": "stdout",
     "output_type": "stream",
     "text": [
      "got a message:hello,world\n"
     ]
    }
   ],
   "source": [
    "def func():\n",
    "    def get_message(message):\n",
    "        print(f\"got a message:{message}\")\n",
    "    return get_message\n",
    "func()(\"hello,world\")\n"
   ]
  },
  {
   "cell_type": "markdown",
   "id": "80c43d6e",
   "metadata": {},
   "source": [
    "## 装饰器\n",
    "Decorators is to modify the behavior of the function through a wrapper so we don’t have to actually modify the function.<br/>**application:Authentication, logging, input rationality checking, and caching**"
   ]
  },
  {
   "cell_type": "markdown",
   "id": "1d6a9524",
   "metadata": {},
   "source": [
    "### 基础装饰器"
   ]
  },
  {
   "cell_type": "code",
   "execution_count": 12,
   "id": "6137887c",
   "metadata": {},
   "outputs": [
    {
     "name": "stdout",
     "output_type": "stream",
     "text": [
      "wrapper of decorator\n",
      "hello,world\n"
     ]
    }
   ],
   "source": [
    "#common\n",
    "def my_decorator(func):  \n",
    "    def wrapper():\n",
    "        print(\"wrapper of decorator\")\n",
    "        func()\n",
    "    return wrapper\n",
    "def greet():\n",
    "    print(\"hello,world\")\n",
    "greet=my_decorator(greet)#greet指向内部函数wrapper(),wrapper()调用函数greet()\n",
    "greet()"
   ]
  },
  {
   "cell_type": "markdown",
   "id": "3421df20",
   "metadata": {},
   "source": [
    "**@语法糖**\n",
    "程序中有其他的函数需要做装饰，只需要在上方加上@装饰函数的名称"
   ]
  },
  {
   "cell_type": "code",
   "execution_count": 13,
   "id": "05045020",
   "metadata": {
    "scrolled": true
   },
   "outputs": [
    {
     "name": "stdout",
     "output_type": "stream",
     "text": [
      "wrapper of decorator\n",
      "hello,world\n"
     ]
    }
   ],
   "source": [
    "#unusual\n",
    "def my_decorator(func):\n",
    "    def wrapper():\n",
    "        print(\"wrapper of decorator\")\n",
    "        func()\n",
    "    return wrapper\n",
    "@my_decorator   #greet=my_decorator(greet)\n",
    "def greet():\n",
    "    print(\"hello,world\")\n",
    "greet()"
   ]
  },
  {
   "cell_type": "markdown",
   "id": "d4c9becb",
   "metadata": {},
   "source": [
    "### 带有参数的装饰器"
   ]
  },
  {
   "cell_type": "markdown",
   "id": "bc521d9f",
   "metadata": {},
   "source": [
    "**单个参数**"
   ]
  },
  {
   "cell_type": "code",
   "execution_count": 14,
   "id": "07d049d3",
   "metadata": {},
   "outputs": [
    {
     "name": "stdout",
     "output_type": "stream",
     "text": [
      "wrapper of decorator\n",
      "hello world\n"
     ]
    }
   ],
   "source": [
    "def my_decorator(func):\n",
    "    def wrapper(message):\n",
    "        print('wrapper of decorator')\n",
    "        func(message)\n",
    "    return wrapper\n",
    "@my_decorator  #greet=my_decorator(greet)\n",
    "def greet(message):\n",
    "    print(message)\n",
    "greet('hello world')"
   ]
  },
  {
   "cell_type": "markdown",
   "id": "02cf4e40",
   "metadata": {},
   "source": [
    "**多个参数**"
   ]
  },
  {
   "cell_type": "code",
   "execution_count": 32,
   "id": "de7afad0",
   "metadata": {
    "scrolled": true
   },
   "outputs": [
    {
     "name": "stdout",
     "output_type": "stream",
     "text": [
      "wrapper of decorator\n",
      "['hello world! ', 'This is a variable parameter!']\n"
     ]
    }
   ],
   "source": [
    "def my_decorator(func): #接收任意类型的传参\n",
    "    def wrapper(*args,**kwargs):\n",
    "        print('wrapper of decorator')\n",
    "        func(*args,**kwargs)\n",
    "    return wrapper\n",
    "@my_decorator  #greet=my_decorator(greet)\n",
    "def greet(*args,**kwargs):\n",
    "    print(*args,**kwargs)\n",
    "greet(['hello world! ',\"This is a variable parameter!\"])"
   ]
  },
  {
   "cell_type": "code",
   "execution_count": 28,
   "id": "f87a9cf5",
   "metadata": {},
   "outputs": [
    {
     "name": "stdout",
     "output_type": "stream",
     "text": [
      "wrapper of decorator\n",
      "\n"
     ]
    }
   ],
   "source": [
    "def my_decorator(func):\n",
    "    def wrapper(a=None,**kargs):\n",
    "        print('wrapper of decorator')\n",
    "        func(**kargs)\n",
    "    return wrapper\n",
    "@my_decorator  #greet=my_decorator(greet)\n",
    "def greet(**kargs):\n",
    "    print(**kargs)\n",
    "greet(a=\"s\")"
   ]
  },
  {
   "cell_type": "markdown",
   "id": "daf9e6d5",
   "metadata": {},
   "source": [
    "### 带有自定义参数的装饰器"
   ]
  },
  {
   "cell_type": "code",
   "execution_count": 40,
   "id": "358380ef",
   "metadata": {
    "scrolled": true
   },
   "outputs": [
    {
     "name": "stdout",
     "output_type": "stream",
     "text": [
      "wrapper of decorator\n",
      "hello,world\n",
      "wrapper of decorator\n",
      "hello,world\n",
      "wrapper of decorator\n",
      "hello,world\n",
      "wrapper\n",
      "Help on function wrapper in module __main__:\n",
      "\n",
      "wrapper(*args, **kwargs)\n",
      "\n"
     ]
    }
   ],
   "source": [
    "def repeat(num):\n",
    "    def my_decorator(func):\n",
    "        def wrapper(*args,**kwargs):\n",
    "            for i in range(num):\n",
    "                print(\"wrapper of decorator\")\n",
    "                func(*args,**kwargs)\n",
    "        return wrapper\n",
    "    return my_decorator\n",
    "@repeat(3)  #相当于greet=repeat(4)(greet)   带自定义参数，\n",
    "def greet(message):\n",
    "    print(message)\n",
    "greet(\"hello,world\")\n",
    "print(greet.__name__) #元信息表示，greet作用域为wrapper()\n",
    "help(greet)"
   ]
  },
  {
   "cell_type": "code",
   "execution_count": 60,
   "id": "8a43e4b2",
   "metadata": {},
   "outputs": [
    {
     "name": "stdout",
     "output_type": "stream",
     "text": [
      "greet\n",
      "wrapper of decorator\n",
      "hello,world\n",
      "wrapper of decorator\n",
      "hello,world\n",
      "wrapper of decorator\n",
      "hello,world\n",
      "wrapper of decorator\n",
      "hello,world\n"
     ]
    }
   ],
   "source": [
    "from functools import wraps\n",
    "def repeat(num):\n",
    "    def my_decorator(func):\n",
    "        @wraps(func)\n",
    "        def wrapper(*args,**kwargs):\n",
    "            for i in range(num):\n",
    "                print(\"wrapper of decorator\")\n",
    "                func(*args,**kwargs)\n",
    "        return wrapper\n",
    "    return my_decorator\n",
    "def greet(message):\n",
    "    print(message)\n",
    "greet=repeat(4)(greet)\n",
    "print(greet.__name__)\n",
    "greet(\"hello,world\")"
   ]
  },
  {
   "cell_type": "markdown",
   "id": "aabd4017",
   "metadata": {},
   "source": [
    "**在编写装饰器时需要复制元信息。装饰器作用在某个函数上，通过复制，注解底层包装函数的重要的元信息比如名字、文档字符串、注解和参数签名 模块：functiontools.wraps**<br/>LINK:[装饰器文档](https://blog.csdn.net/HHG20171226/article/details/102658746)"
   ]
  },
  {
   "cell_type": "code",
   "execution_count": 47,
   "id": "540a0b2f",
   "metadata": {
    "scrolled": true
   },
   "outputs": [
    {
     "name": "stdout",
     "output_type": "stream",
     "text": [
      "wrapper of decorator\n",
      "hello,world\n",
      "wrapper of decorator\n",
      "hello,world\n",
      "wrapper of decorator\n",
      "hello,world\n",
      "greet\n"
     ]
    }
   ],
   "source": [
    "from functools import wraps\n",
    "def repeat(num):\n",
    "    def my_decorator(func):\n",
    "        @wraps(func)  #将原函数的元信息，拷贝到对应的装饰器函数里\n",
    "        def wrapper(*args,**kwargs):\n",
    "            for i in range(num):\n",
    "                print(\"wrapper of decorator\")\n",
    "                func(*args,**kwargs)\n",
    "        return wrapper\n",
    "    return my_decorator\n",
    "@repeat(3)  #相当于greet=repeat(4)(greet)  \n",
    "def greet(message):\n",
    "    print(message)\n",
    "greet(\"hello,world\")\n",
    "print(greet.__name__) #元信息表示，greet作用域为greet"
   ]
  },
  {
   "cell_type": "markdown",
   "id": "4f882e4f",
   "metadata": {},
   "source": [
    "### 类装饰器\n",
    "**类装饰器主要依赖于函数__ call __(),每次调用都会进行重载调用**"
   ]
  },
  {
   "cell_type": "code",
   "execution_count": 73,
   "id": "bd119dd1",
   "metadata": {},
   "outputs": [
    {
     "name": "stdout",
     "output_type": "stream",
     "text": [
      "num of calls is:1\n",
      "hello,world!\n",
      "num of calls is:2\n",
      "hello,world!\n"
     ]
    }
   ],
   "source": [
    "class Count:\n",
    "    def __init__(self,func):\n",
    "        self.func=func\n",
    "        self.num_calls=0\n",
    "    def __call__(self,*args,**kwargs):\n",
    "        self.num_calls+=1\n",
    "        print(f\"num of calls is:{self.num_calls}\")\n",
    "        return self.func(*args,**kwargs)\n",
    "@Count    #example=Count(example)\n",
    "def example(*args,**kwargs):\n",
    "    print(*args,**kwargs)\n",
    "example(\"hello,world!\")\n",
    "example(\"hello,world!\")\n",
    "\n"
   ]
  },
  {
   "cell_type": "markdown",
   "id": "e72f8e5b",
   "metadata": {},
   "source": [
    "### 装饰器的嵌套\n",
    "python支持多个装饰器<br/>\n",
    "比如：<br/>@decorator1<br/>\n",
    "@decorator2<br/>\n",
    "@decorator3<br/>\n",
    "def func():<br/>\n",
    "    ...<br/>\n",
    "执行顺序从里到外<br/>\n",
    "等同于decorator1(decorator2(decorator3(func)))"
   ]
  },
  {
   "cell_type": "code",
   "execution_count": 90,
   "id": "b9ac2ca2",
   "metadata": {},
   "outputs": [
    {
     "name": "stdout",
     "output_type": "stream",
     "text": [
      "execute decorator1\n",
      "execute decorator2\n",
      "hello,world\n",
      "greet\n"
     ]
    }
   ],
   "source": [
    "from functools import wraps\n",
    "def my_decorator1(func):\n",
    "    @wraps(func)\n",
    "    def wrapper(*args,**kwargs):\n",
    "        print(\"execute decorator1\")\n",
    "        func(*args,**kwargs)\n",
    "    return wrapper\n",
    "def my_decorator2(func):\n",
    "    @wraps(func)\n",
    "    def wrapper(*args,**kwargs):\n",
    "        print(\"execute decorator2\")\n",
    "        func(*args,**kwargs)\n",
    "    return wrapper\n",
    "@my_decorator1\n",
    "@my_decorator2\n",
    "def greet(*args,**kwargs):\n",
    "    print(*args,**kwargs)\n",
    "greet(\"hello,world\")\n",
    "print(greet.__name__)"
   ]
  },
  {
   "cell_type": "markdown",
   "id": "68aa3cab",
   "metadata": {},
   "source": [
    "## 装饰器用法实例"
   ]
  },
  {
   "cell_type": "markdown",
   "id": "0e663589",
   "metadata": {},
   "source": [
    "### 身份认证(为某些功能服务）\n",
    "需求：<br/>一些网站，你不登录也可以浏览内容，但如果你想要发布文章或留言，在点击发布时，服务器端便会查询你是否登录。如果没有登录，就不允许这项操作等等。<br/>实现：<br/>定义了装饰器 authenticate；而函数 post_comment()，则表示发表用户对某篇文章的评论。每次调用这个函数前，都会先检查用户是否处于登录状态，如果是登录状态，则允许这项操作；如果没有登录，则不允许。\n"
   ]
  },
  {
   "cell_type": "code",
   "execution_count": null,
   "id": "72686eb6",
   "metadata": {},
   "outputs": [],
   "source": [
    "import functools\n",
    " \n",
    "def authenticate(func):\n",
    "    @functools.wraps(func)\n",
    "    def wrapper(*args, **kwargs):\n",
    "        request = args[0]\n",
    "        if check_user_logged_in(request): # 如果用户处于登录状态\n",
    "            return func(*args, **kwargs) # 执行函数 post_comment() \n",
    "        else:\n",
    "            raise Exception('Authentication failed')\n",
    "    return wrapper\n",
    "    \n",
    "@authenticate\n",
    "def post_comment(request, ...)\n",
    "    ...."
   ]
  },
  {
   "cell_type": "markdown",
   "id": "6bb7ad45",
   "metadata": {},
   "source": [
    "### 输入合理性检查\n",
    "需求：<br/>在大型公司的机器学习框架中，我们调用机器集群进行模型训练前，往往会用装饰器对其输入（往往是很长的 json 文件）进行合理性检查。这样就可以大大避免，输入不正确对机器造成的巨大开销。<br/>实现：<br/>"
   ]
  },
  {
   "cell_type": "code",
   "execution_count": null,
   "id": "ad06e3d6",
   "metadata": {},
   "outputs": [],
   "source": [
    "import functools\n",
    " \n",
    "def validation_check(input):\n",
    "    @functools.wraps(func)\n",
    "    def wrapper(*args, **kwargs): \n",
    "        ... # 检查输入是否合法\n",
    "    \n",
    "@validation_check\n",
    "def neural_network_training(param1, param2, ...):\n",
    "    ..."
   ]
  },
  {
   "cell_type": "markdown",
   "id": "3b0dc428",
   "metadata": {},
   "source": [
    "### 缓存装饰器\n",
    "**LRU cache，在 Python 中的表示形式是@lru_cache。<br/>@lru_cache会缓存进程中的函数参数和结果，当缓存满了以后，会删除 least recenly used 的数据。**<br/>正确使用缓存装饰器，往往能极大地提高程序运行效率。<br/>例子：大型公司服务器端的代码中往往存在很多关于设备的检查，比如你使用的设备是安卓还是 iPhone，版本号是多少。这其中的一个原因，就是一些新的 feature，往往只在某些特定的手机系统或版本上才有（比如 Android v200+）。这样一来，我们通常使用缓存装饰器，来包裹这些检查函数，避免其被反复调用，进而提高程序运行效率，比如写成下面这样："
   ]
  },
  {
   "cell_type": "code",
   "execution_count": null,
   "id": "f70fb7bb",
   "metadata": {},
   "outputs": [],
   "source": [
    "@lru_cache\n",
    "def check(param1, param2, ...) # 检查用户设备类型，版本号等等\n",
    "    ..."
   ]
  }
 ],
 "metadata": {
  "kernelspec": {
   "display_name": "Python 3 (ipykernel)",
   "language": "python",
   "name": "python3"
  },
  "language_info": {
   "codemirror_mode": {
    "name": "ipython",
    "version": 3
   },
   "file_extension": ".py",
   "mimetype": "text/x-python",
   "name": "python",
   "nbconvert_exporter": "python",
   "pygments_lexer": "ipython3",
   "version": "3.10.4"
  },
  "toc": {
   "base_numbering": 1,
   "nav_menu": {},
   "number_sections": true,
   "sideBar": true,
   "skip_h1_title": false,
   "title_cell": "Table of Contents",
   "title_sidebar": "Contents",
   "toc_cell": false,
   "toc_position": {},
   "toc_section_display": true,
   "toc_window_display": false
  }
 },
 "nbformat": 4,
 "nbformat_minor": 5
}
