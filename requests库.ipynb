{
 "cells": [
  {
   "cell_type": "markdown",
   "id": "f77bc254",
   "metadata": {},
   "source": [
    "## 接口自动化测试框架\n",
    "postman +newman+git/svn+jenkins<br/>jmeter+ant+git/svn+jenkins<br/>弊端：<br/>1.敏捷开发时代，接口数量大，工具无法做到团队协作和版本控制<br/>2.功能写死了，对复杂接口无能为力（自定义加密以及签名）<br/>3.项目中有多种协议的接口<br/>4.定位问题<br/>5.没有美观的html报告<br/>6.多接口串联，数据库连接，日志监控<br/>7.接口+web自动化的结合"
   ]
  },
  {
   "cell_type": "markdown",
   "id": "bec4a32a",
   "metadata": {},
   "source": [
    "## 认识requests库\n",
    "1.get()<br/>2.post()<br/>3.put（）<br/>4.delete()"
   ]
  },
  {
   "cell_type": "markdown",
   "id": "45652ca1",
   "metadata": {},
   "source": [
    "ps:multipart/form-data表示表单里有文件上传"
   ]
  },
  {
   "cell_type": "markdown",
   "id": "5551ea25",
   "metadata": {},
   "source": [
    "x-requested-with：异步请求"
   ]
  },
  {
   "cell_type": "markdown",
   "id": "28b3a1a2",
   "metadata": {},
   "source": [
    "request.request()方法，所有的都是调用这个方法"
   ]
  }
 ],
 "metadata": {
  "kernelspec": {
   "display_name": "Python 3 (ipykernel)",
   "language": "python",
   "name": "python3"
  },
  "language_info": {
   "codemirror_mode": {
    "name": "ipython",
    "version": 3
   },
   "file_extension": ".py",
   "mimetype": "text/x-python",
   "name": "python",
   "nbconvert_exporter": "python",
   "pygments_lexer": "ipython3",
   "version": "3.10.4"
  },
  "toc": {
   "base_numbering": 1,
   "nav_menu": {},
   "number_sections": true,
   "sideBar": true,
   "skip_h1_title": false,
   "title_cell": "Table of Contents",
   "title_sidebar": "Contents",
   "toc_cell": false,
   "toc_position": {},
   "toc_section_display": true,
   "toc_window_display": false
  }
 },
 "nbformat": 4,
 "nbformat_minor": 5
}
