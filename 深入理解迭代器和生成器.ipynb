{
 "cells": [
  {
   "cell_type": "markdown",
   "id": "56f9838d",
   "metadata": {},
   "source": [
    "## 迭代器"
   ]
  },
  {
   "cell_type": "markdown",
   "id": "13ac2c34",
   "metadata": {},
   "source": [
    "**迭代器提供 next 方法。调用这个方法，可以得到这个容器的下一个对象或者 StopIteration 错误。比如，字典采用哈希表实现，那么只需要知道，next 函数可以不重复不遗漏地一个一个拿到所有元素即可。**"
   ]
  },
  {
   "cell_type": "markdown",
   "id": "018c0d7d",
   "metadata": {},
   "source": [
    "可迭代对象，通过 iter() 函数返回一个迭代器，再通过 next() 函数就可以实现遍历。for in 语句将这个过程隐式化"
   ]
  },
  {
   "cell_type": "markdown",
   "id": "f42d3759",
   "metadata": {},
   "source": [
    "**判断是否可以迭代**"
   ]
  },
  {
   "cell_type": "code",
   "execution_count": 1,
   "id": "52058d4e",
   "metadata": {
    "scrolled": true
   },
   "outputs": [
    {
     "name": "stdout",
     "output_type": "stream",
     "text": [
      "1234 is iterable? False\n",
      "1234 is iterable? True\n",
      "[1, 2, 3, 4] is iterable? True\n",
      "{1, 2, 3, 4} is iterable? True\n",
      "{1: 1, 2: 2, 3: 3} is iterable? True\n",
      "(1, 2, 3, 4) is iterable? True\n"
     ]
    }
   ],
   "source": [
    "def is_itreable(param):\n",
    "    try:\n",
    "        iter(param)\n",
    "        return True\n",
    "    except TypeError:\n",
    "        return False\n",
    "params=[1234,'1234',[1,2,3,4],set([1,2,3,4]),{1:1,2:2,3:3},(1,2,3,4)]\n",
    "for param in params:\n",
    "    print(f\"{param} is iterable? {is_itreable(param)}\")"
   ]
  },
  {
   "cell_type": "markdown",
   "id": "b572ad76",
   "metadata": {},
   "source": [
    "## 生成器\n",
    "（懒人版本的迭代器）"
   ]
  },
  {
   "cell_type": "markdown",
   "id": "7a09ba04",
   "metadata": {},
   "source": [
    "在迭代器中，我们想要枚举它的元素，需要提前生成这些元素。<br/>样例："
   ]
  },
  {
   "cell_type": "markdown",
   "id": "54af0ae0",
   "metadata": {},
   "source": [
    "import os\n",
    "import psutil\n",
    "#显示当前python程序占用的内存大小\n",
    "def show_memory_info(hint):\n",
    "    pid=os.getpid()\n",
    "    p=psutil.Process(pid)\n",
    "    info=p.memory_full_info()\n",
    "    print('{} memory used: {} MB'.format(hint, memory))\n",
    "def test_iterator():\n",
    "    show_memory_info(\"initing iterator\")\n",
    "    list1=[i for i in range(100000000)]\n",
    "    show_memory_info(\"after iterator initiated\")\n",
    "    print(sum(list1))\n",
    "    show_memory_info(\"after sum called\")\n",
    "def test_generator():\n",
    "    show_memory_info('initing generator')\n",
    "    list_2 = (i for i in range(100000000))\n",
    "    show_memory_info('after generator initiated')\n",
    "    print(sum(list_2))\n",
    "    show_memory_info('after sum called')\n",
    "%time test_iterator()\n",
    "%time test_generator()"
   ]
  },
  {
   "cell_type": "markdown",
   "id": "32e3998f",
   "metadata": {},
   "source": [
    "当我们只需要使用每个元素的信息，而不是需要整体的信息时，可以使用生成器。在调用 next() 函数的时候，才会生成下一个变量。生成器在 Python 的写法是用小括号括起来，(i for i in range(100000000))，即初始化了一个生成器。"
   ]
  },
  {
   "cell_type": "markdown",
   "id": "0b8df57d",
   "metadata": {},
   "source": [
    "**生成器并不会像迭代器一样占用大量内存，只有在被使用的时候才会调用。**"
   ]
  },
  {
   "cell_type": "markdown",
   "id": "f560280f",
   "metadata": {},
   "source": [
    "**数学中有一个恒等式，(1 + 2 + 3 + ... + n)^2 = 1^3 + 2^3 + 3^3 + ... + n^3**"
   ]
  },
  {
   "cell_type": "code",
   "execution_count": 6,
   "id": "58acdfe4",
   "metadata": {
    "scrolled": false
   },
   "outputs": [
    {
     "name": "stdout",
     "output_type": "stream",
     "text": [
      "<generator object generator at 0x000002765DAB68F0>\n",
      "<generator object generator at 0x000002765DAB6650>\n",
      "next_1 = 1, next_3 = 1\n",
      "next_1 = 2, next_3 = 8\n",
      "next_1 = 3, next_3 = 27\n",
      "36 36\n"
     ]
    }
   ],
   "source": [
    "def generator(k):\n",
    "    i = 1\n",
    "    while True:\n",
    "        yield i ** k    #程序暂停，返回next（）函数     yield 返回一个生成器\n",
    "        i += 1           #1  2  3\n",
    "                         #1  8  27\n",
    "gen_1 = generator(1)  \n",
    "gen_3 = generator(3)\n",
    "print(gen_1)\n",
    "print(gen_3)\n",
    " \n",
    "def get_sum(n):\n",
    "    sum_1, sum_3 = 0, 0\n",
    "    for i in range(n):\n",
    "        next_1 = next(gen_1) #从yield继续执行，局部变量i继续累加。\n",
    "        next_3 = next(gen_3)\n",
    "        print('next_1 = {}, next_3 = {}'.format(next_1, next_3))\n",
    "        sum_1 += next_1   #1  3  6\n",
    "        sum_3 += next_3   #1  8   27\n",
    "    print(sum_1 * sum_1, sum_3)\n",
    " \n",
    "get_sum(3)"
   ]
  },
  {
   "cell_type": "markdown",
   "id": "be414541",
   "metadata": {},
   "source": [
    "**给定一个 list 和一个指定数字，求这个数字在 list 中的位置。**\n"
   ]
  },
  {
   "cell_type": "markdown",
   "id": "1e7f5686",
   "metadata": {},
   "source": [
    "1.枚举法"
   ]
  },
  {
   "cell_type": "code",
   "execution_count": 12,
   "id": "a0a6f9b4",
   "metadata": {
    "scrolled": true
   },
   "outputs": [
    {
     "name": "stdout",
     "output_type": "stream",
     "text": [
      "[2, 5, 9]\n"
     ]
    }
   ],
   "source": [
    "def index_normal(L, target):\n",
    "    result = []\n",
    "    for i, num in enumerate(L):  #enumerate返回索引序列 [(0,\"e1\"),(1,\"e2\")]\n",
    "        if num == target:\n",
    "            result.append(i)\n",
    "    return result\n",
    "print(index_normal([1, 6, 2, 4, 5, 2, 8, 6, 3, 2], 2))"
   ]
  },
  {
   "cell_type": "markdown",
   "id": "5c1a6720",
   "metadata": {},
   "source": [
    "2.迭代器法"
   ]
  },
  {
   "cell_type": "code",
   "execution_count": 13,
   "id": "d6c48304",
   "metadata": {},
   "outputs": [
    {
     "name": "stdout",
     "output_type": "stream",
     "text": [
      "[2, 5, 9]\n"
     ]
    }
   ],
   "source": [
    "def index_normal(L,target):\n",
    "    for i,num in enumerate(L):\n",
    "        if num==target:\n",
    "            yield i  #程序暂停，局部变量仍然保留。\n",
    "print(list(index_normal([1, 6, 2, 4, 5, 2, 8, 6, 3, 2], 2)))"
   ]
  },
  {
   "cell_type": "markdown",
   "id": "372dbdaa",
   "metadata": {},
   "source": [
    "**给定两个序列，判定第一个是不是第二个的子序列。<br/>比如[1,3,5]是[1,2,3,4,5]的子序列**"
   ]
  },
  {
   "cell_type": "markdown",
   "id": "2f6f69e7",
   "metadata": {},
   "source": [
    "常规算法是贪心算法。我们维护两个指针指向两个列表的最开始，然后对第二个序列一路扫过去，如果某个数字和第一个指针指的一样，那么就把第一个指针前进一步。第一个指针移出第一个序列最后一个元素的时候，返回 True，否则返回 False。"
   ]
  },
  {
   "cell_type": "code",
   "execution_count": null,
   "id": "e502e1b8",
   "metadata": {},
   "outputs": [],
   "source": []
  },
  {
   "cell_type": "markdown",
   "id": "fb72c5bf",
   "metadata": {},
   "source": [
    "**迭代器生成**"
   ]
  },
  {
   "cell_type": "code",
   "execution_count": 38,
   "id": "2d41ecf4",
   "metadata": {
    "scrolled": false
   },
   "outputs": [
    {
     "name": "stdout",
     "output_type": "stream",
     "text": [
      "True\n",
      "False\n"
     ]
    }
   ],
   "source": [
    "def is_subsequence(a, b):\n",
    "    b = iter(b)\n",
    "    return all(i in b for i in a)\n",
    "print(is_subsequence([1, 3, 5], [1, 2, 3, 4, 5]))\n",
    "print(is_subsequence([1, 4, 3], [1, 2, 3, 4, 5]))"
   ]
  },
  {
   "cell_type": "code",
   "execution_count": 42,
   "id": "1929ef10",
   "metadata": {
    "scrolled": false
   },
   "outputs": [
    {
     "name": "stdout",
     "output_type": "stream",
     "text": [
      "True\n"
     ]
    }
   ],
   "source": [
    "def is_subsequence(a, b):\n",
    "    b = iter(b) #将b列表转换为一个迭代器，迭代器只能遍历一次，只能向前遍历，不能回退。\n",
    "#     print(b)\n",
    "#     gen = (i for i in a) #产生一个生成器遍历a\n",
    "#     print(gen) \n",
    "#     for i in gen:\n",
    "#         print(i)\n",
    "#     gen = ((i in b) for i in a)\n",
    "#     print(gen)              #(i in b)等价于 \n",
    "#                             # while True:\n",
    "#                             #val=next(b)  if val==i:  yield True !!bext()函数运行，保留当前的指针\n",
    "#     for i in gen:\n",
    "#         print(i)  #all() 函数⽤于判断给定的可迭代参数 iterable 中的所有元素是否都为 TRUE，如果是返回 True，否则返回 False。\n",
    "#                 #元素除了是 0、空、None、False 外都算 True。\n",
    "    return all((i in b for i in a))   #执行以上代码，抛出错误，是因为生成器只能遍历一次\n",
    "print(is_subsequence([1, 3, 5], [1, 2, 3, 4, 5]))"
   ]
  },
  {
   "cell_type": "code",
   "execution_count": 47,
   "id": "92f41940",
   "metadata": {
    "scrolled": true
   },
   "outputs": [
    {
     "name": "stdout",
     "output_type": "stream",
     "text": [
      "True\n",
      "True\n",
      "False\n",
      "False\n"
     ]
    }
   ],
   "source": [
    "#!!!next() 函数运行的时候，保存了当前的指针，所以生成器只能遍历一次，继续调用会抛出raise Stopiteration\n",
    "b = (i for i in range(5))\n",
    " \n",
    "print(2 in b)\n",
    "print(4 in b)\n",
    "print(4 in b)\n",
    "print (all((2 in b) for i in [2]))"
   ]
  },
  {
   "cell_type": "markdown",
   "id": "3153b7ca",
   "metadata": {},
   "source": [
    "**all() 函数用来判断一个迭代器的元素是否全部为 True，如果是则返回 True，否则就返回 False**"
   ]
  },
  {
   "cell_type": "markdown",
   "id": "ef80c636",
   "metadata": {},
   "source": [
    "next函数可能有些误区，迭代完成后继续调用next函数会返回默认值None。\n",
    " iterator.__next__() 方法和 next(iterator, default=None) 函数的区别在于：前者迭代完成后会抛出StopIteration错误，中断程序运行，而后者会返回一个默认值None（可以指定），不会报错和中断程序运行。"
   ]
  }
 ],
 "metadata": {
  "kernelspec": {
   "display_name": "Python 3 (ipykernel)",
   "language": "python",
   "name": "python3"
  },
  "language_info": {
   "codemirror_mode": {
    "name": "ipython",
    "version": 3
   },
   "file_extension": ".py",
   "mimetype": "text/x-python",
   "name": "python",
   "nbconvert_exporter": "python",
   "pygments_lexer": "ipython3",
   "version": "3.10.4"
  },
  "toc": {
   "base_numbering": 1,
   "nav_menu": {},
   "number_sections": true,
   "sideBar": true,
   "skip_h1_title": false,
   "title_cell": "Table of Contents",
   "title_sidebar": "Contents",
   "toc_cell": false,
   "toc_position": {},
   "toc_section_display": true,
   "toc_window_display": false
  }
 },
 "nbformat": 4,
 "nbformat_minor": 5
}
